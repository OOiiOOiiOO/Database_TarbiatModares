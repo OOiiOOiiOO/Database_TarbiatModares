{
 "cells": [
  {
   "cell_type": "markdown",
   "metadata": {},
   "source": [
    "## مباحث اتصال"
   ]
  },
  {
   "cell_type": "code",
   "execution_count": 1,
   "metadata": {},
   "outputs": [],
   "source": [
    "import mysql.connector"
   ]
  },
  {
   "cell_type": "code",
   "execution_count": 8,
   "metadata": {},
   "outputs": [],
   "source": [
    "mydb = mysql.connector.connect(\n",
    "  host=\"localhost\",\n",
    "  user=\"root\",\n",
    "  password=\"10401040\",\n",
    "\n",
    ")\n",
    "mycursor = mydb.cursor()\n"
   ]
  },
  {
   "cell_type": "code",
   "execution_count": 9,
   "metadata": {},
   "outputs": [
    {
     "name": "stdout",
     "output_type": "stream",
     "text": [
      "('information_schema',)\n",
      "('mydatabase',)\n",
      "('mysql',)\n",
      "('performance_schema',)\n",
      "('sys',)\n",
      "('tarbiatmodares',)\n"
     ]
    }
   ],
   "source": [
    "\n",
    "mycursor.execute(\"SHOW DATABASES\")\n",
    "\n",
    "for x in mycursor:\n",
    "  print(x)"
   ]
  },
  {
   "cell_type": "code",
   "execution_count": 10,
   "metadata": {},
   "outputs": [],
   "source": [
    "mycursor.execute(\"CREATE DATABASE test1\")\n"
   ]
  },
  {
   "cell_type": "code",
   "execution_count": 3,
   "metadata": {},
   "outputs": [],
   "source": [
    "mydb = mysql.connector.connect(\n",
    "  host=\"localhost\",\n",
    "  user=\"root\",\n",
    "  password=\"10401040\",\n",
    "  database=\"test1\"\n",
    "\n",
    ")\n",
    "mycursor = mydb.cursor()\n"
   ]
  },
  {
   "cell_type": "code",
   "execution_count": 11,
   "metadata": {},
   "outputs": [],
   "source": [
    "sql = \"DROP TABLE users\"\n",
    "\n",
    "mycursor.execute(sql)"
   ]
  },
  {
   "cell_type": "markdown",
   "metadata": {},
   "source": [
    "## ایجاد جداول و ریختن داده ها "
   ]
  },
  {
   "cell_type": "code",
   "execution_count": 12,
   "metadata": {},
   "outputs": [],
   "source": [
    "mycursor.execute(\"CREATE TABLE users (ID int NOT NULL,name varchar(255) NOT NULL,fav varchar(255) ,PRIMARY KEY (name));\")\n"
   ]
  },
  {
   "cell_type": "code",
   "execution_count": 13,
   "metadata": {},
   "outputs": [
    {
     "name": "stdout",
     "output_type": "stream",
     "text": [
      "7 was inserted.\n"
     ]
    }
   ],
   "source": [
    "sql = \"INSERT INTO users (ID, name, fav) VALUES (%s, %s, %s)\"\n",
    "\n",
    "val = [\n",
    "  ('1','Mohammad Mahdi', '145'),\n",
    "  ('2','Sanaz', '700'),\n",
    "  ('3','Mehran', '700'),\n",
    "  ('4','Ali', '129'),\n",
    "  ('5','Hamed', '1000000'),\n",
    "  ('6','Sara',\"\"),\n",
    "  ('7','Asghar',\"\")\n",
    "]\n",
    "\n",
    "mycursor.executemany(sql, val)\n",
    "\n",
    "mydb.commit()\n",
    "\n",
    "print(mycursor.rowcount, \"was inserted.\")"
   ]
  },
  {
   "cell_type": "code",
   "execution_count": 15,
   "metadata": {},
   "outputs": [],
   "source": [
    "mycursor.execute(\"CREATE TABLE products(ID int NOT NULL,name varchar(255) NOT NULL,PRIMARY KEY (ID));\")\n"
   ]
  },
  {
   "cell_type": "code",
   "execution_count": 16,
   "metadata": {},
   "outputs": [
    {
     "name": "stdout",
     "output_type": "stream",
     "text": [
      "6 was inserted.\n"
     ]
    }
   ],
   "source": [
    "sql = \"INSERT INTO products (ID, name) VALUES (%s, %s)\"\n",
    "\n",
    "val = [\n",
    "  ('1000000','Xbox'),\n",
    "  ('700','PlayStation'),\n",
    "  ('129','Iphone'),\n",
    "  ('100','IMac'),\n",
    "  ('329','TV'),\n",
    "  ('145','Laptop'),\n",
    "]\n",
    "\n",
    "mycursor.executemany(sql, val)\n",
    "\n",
    "mydb.commit()\n",
    "\n",
    "print(mycursor.rowcount, \"was inserted.\")"
   ]
  },
  {
   "cell_type": "markdown",
   "metadata": {},
   "source": [
    "## دستور اتصال از چپ -> Left Join \n",
    "\n",
    "\n",
    "به عنوان مثال میگیم نام محصولات مورد علاقه کاربران به کاربران و محصولات بچسبند"
   ]
  },
  {
   "cell_type": "code",
   "execution_count": 14,
   "metadata": {},
   "outputs": [
    {
     "name": "stdout",
     "output_type": "stream",
     "text": [
      "('Ali', 'Iphone')\n",
      "('Hamed', 'Xbox')\n",
      "('Mehran', 'PlayStation')\n",
      "('Mohammad Mahdi', 'Laptop')\n",
      "('Sanaz', 'PlayStation')\n"
     ]
    }
   ],
   "source": [
    "\n",
    "sql = \"SELECT \\\n",
    "  users.name AS user, \\\n",
    "  products.name AS favorite \\\n",
    "  FROM users \\\n",
    "  INNER JOIN products ON users.fav = products.id\"\n",
    "\n",
    "mycursor.execute(sql)\n",
    "\n",
    "myresult = mycursor.fetchall()\n",
    "\n",
    "for x in myresult:\n",
    "  print(x)"
   ]
  },
  {
   "cell_type": "markdown",
   "metadata": {},
   "source": [
    "##### در خروجی بالا اسمی از سارا و اصغر که هیچ کالای مورد علاقه ایی نداشتن نیومده برای نشون داده اونا میایم از دستور اتصال از چپ استفاده میکنیم"
   ]
  },
  {
   "cell_type": "code",
   "execution_count": 16,
   "metadata": {},
   "outputs": [
    {
     "name": "stdout",
     "output_type": "stream",
     "text": [
      "('Ali', 'Iphone')\n",
      "('Asghar', None)\n",
      "('Hamed', 'Xbox')\n",
      "('Mehran', 'PlayStation')\n",
      "('Mohammad Mahdi', 'Laptop')\n",
      "('Sanaz', 'PlayStation')\n",
      "('Sara', None)\n"
     ]
    }
   ],
   "source": [
    "sql = \"SELECT \\\n",
    "  users.name AS user, \\\n",
    "  products.name AS favorite \\\n",
    "  FROM users \\\n",
    "  LEFT JOIN products ON users.fav = products.id\"\n",
    "  \n",
    "  \n",
    "\n",
    "mycursor.execute(sql)\n",
    "\n",
    "myresult = mycursor.fetchall()\n",
    "\n",
    "for x in myresult:\n",
    "  print(x)"
   ]
  },
  {
   "cell_type": "markdown",
   "metadata": {},
   "source": [
    "##### همان گونه که قابل مشاهده است خروجی این دستور شامل تمامی یوزر ها با تفاوت اینکه دو یوزری که کالای مورد علاقه ندارن به صورت خالی برگشته است -> (None, Null)\n",
    "\n",
    "('Asghar', None)\n",
    "\n",
    "('Sara', None)"
   ]
  },
  {
   "cell_type": "markdown",
   "metadata": {},
   "source": [
    "## دستور اتصال از راست -> Right Join"
   ]
  },
  {
   "cell_type": "markdown",
   "metadata": {},
   "source": [
    "گر می‌خواهید همه محصولات را فراخوانی کنید، و کاربرانی که آنها را به عنوان مورد علاقه خود دارند، حتی اگر هیچ کاربری به آن محصولات علاقه نشان نداده فراخوانی شود از این دستور استفاده میکنیم"
   ]
  },
  {
   "cell_type": "code",
   "execution_count": 19,
   "metadata": {},
   "outputs": [
    {
     "name": "stdout",
     "output_type": "stream",
     "text": [
      "(None, 'IMac')\n",
      "('Ali', 'Iphone')\n",
      "('Mohammad Mahdi', 'Laptop')\n",
      "(None, 'TV')\n",
      "('Sanaz', 'PlayStation')\n",
      "('Mehran', 'PlayStation')\n",
      "('Hamed', 'Xbox')\n"
     ]
    }
   ],
   "source": [
    "sql = \"SELECT \\\n",
    "  users.name AS user, \\\n",
    "  products.name AS favorite \\\n",
    "  FROM users \\\n",
    "  RIGHT JOIN products ON users.fav = products.id\"\n",
    "  \n",
    "\n",
    "\n",
    "mycursor.execute(sql)\n",
    "\n",
    "myresult = mycursor.fetchall()\n",
    "\n",
    "for x in myresult:\n",
    "  print(x)\n",
    "  "
   ]
  },
  {
   "cell_type": "markdown",
   "metadata": {},
   "source": [
    "همان گونه که مشخص است دستور اتصال از راست کالاهایی که هیچ کاربری به آن ابراز علاقه نکرده هم فراخوانی شده است\n",
    "\n",
    "\n",
    "(None, 'TV')\n",
    "\n",
    "(None, 'IMac')"
   ]
  }
 ],
 "metadata": {
  "kernelspec": {
   "display_name": "m",
   "language": "python",
   "name": "python3"
  },
  "language_info": {
   "codemirror_mode": {
    "name": "ipython",
    "version": 3
   },
   "file_extension": ".py",
   "mimetype": "text/x-python",
   "name": "python",
   "nbconvert_exporter": "python",
   "pygments_lexer": "ipython3",
   "version": "3.10.9"
  }
 },
 "nbformat": 4,
 "nbformat_minor": 2
}
